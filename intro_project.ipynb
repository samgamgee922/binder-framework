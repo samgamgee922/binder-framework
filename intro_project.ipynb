{
 "cells": [
  {
   "cell_type": "code",
   "execution_count": 1,
   "id": "f5943d27",
   "metadata": {},
   "outputs": [
    {
     "data": {
      "text/html": [
       "<div>\n",
       "<style scoped>\n",
       "    .dataframe tbody tr th:only-of-type {\n",
       "        vertical-align: middle;\n",
       "    }\n",
       "\n",
       "    .dataframe tbody tr th {\n",
       "        vertical-align: top;\n",
       "    }\n",
       "\n",
       "    .dataframe thead th {\n",
       "        text-align: right;\n",
       "    }\n",
       "</style>\n",
       "<table border=\"1\" class=\"dataframe\">\n",
       "  <thead>\n",
       "    <tr style=\"text-align: right;\">\n",
       "      <th></th>\n",
       "      <th>Company</th>\n",
       "      <th>Email</th>\n",
       "      <th>Borough</th>\n",
       "      <th>NTA</th>\n",
       "      <th>Total Savings</th>\n",
       "      <th>New jobs</th>\n",
       "      <th>Month</th>\n",
       "    </tr>\n",
       "  </thead>\n",
       "  <tbody>\n",
       "    <tr>\n",
       "      <th>0</th>\n",
       "      <td>1 State Street</td>\n",
       "      <td>eskoblo@energyspec.com</td>\n",
       "      <td>Brooklyn</td>\n",
       "      <td>Midwood</td>\n",
       "      <td>0.00</td>\n",
       "      <td>0.0</td>\n",
       "      <td>2005-03</td>\n",
       "    </tr>\n",
       "    <tr>\n",
       "      <th>1</th>\n",
       "      <td>100 Church LLC</td>\n",
       "      <td>NaN</td>\n",
       "      <td>New York</td>\n",
       "      <td>SoHo-TriBeCa-Civic Center-Little Italy</td>\n",
       "      <td>136578.20</td>\n",
       "      <td>0.0</td>\n",
       "      <td>2008-04</td>\n",
       "    </tr>\n",
       "    <tr>\n",
       "      <th>2</th>\n",
       "      <td>100 Wall Investments</td>\n",
       "      <td>NaN</td>\n",
       "      <td>New York</td>\n",
       "      <td>Battery Park City-Lower Manhattan</td>\n",
       "      <td>302959.40</td>\n",
       "      <td>0.0</td>\n",
       "      <td>2015-01</td>\n",
       "    </tr>\n",
       "    <tr>\n",
       "      <th>3</th>\n",
       "      <td>1-10 Bush Terminal Owner LP</td>\n",
       "      <td>akimball@industrycity.com</td>\n",
       "      <td>Brooklyn</td>\n",
       "      <td>Sunset Park West</td>\n",
       "      <td>2159.67</td>\n",
       "      <td>0.0</td>\n",
       "      <td>2020-02</td>\n",
       "    </tr>\n",
       "    <tr>\n",
       "      <th>4</th>\n",
       "      <td>120 Broadway Acquisitions JV, LLC (Ldmk)</td>\n",
       "      <td>clettich@silvprop.com</td>\n",
       "      <td>New York</td>\n",
       "      <td>Battery Park City-Lower Manhattan</td>\n",
       "      <td>922407.32</td>\n",
       "      <td>0.0</td>\n",
       "      <td>2017-06</td>\n",
       "    </tr>\n",
       "  </tbody>\n",
       "</table>\n",
       "</div>"
      ],
      "text/plain": [
       "                                    Company                      Email  \\\n",
       "0                            1 State Street     eskoblo@energyspec.com   \n",
       "1                            100 Church LLC                        NaN   \n",
       "2                      100 Wall Investments                        NaN   \n",
       "3               1-10 Bush Terminal Owner LP  akimball@industrycity.com   \n",
       "4  120 Broadway Acquisitions JV, LLC (Ldmk)      clettich@silvprop.com   \n",
       "\n",
       "    Borough                                     NTA  Total Savings  New jobs  \\\n",
       "0  Brooklyn                                 Midwood           0.00       0.0   \n",
       "1  New York  SoHo-TriBeCa-Civic Center-Little Italy      136578.20       0.0   \n",
       "2  New York       Battery Park City-Lower Manhattan      302959.40       0.0   \n",
       "3  Brooklyn                        Sunset Park West        2159.67       0.0   \n",
       "4  New York       Battery Park City-Lower Manhattan      922407.32       0.0   \n",
       "\n",
       "     Month  \n",
       "0  2005-03  \n",
       "1  2008-04  \n",
       "2  2015-01  \n",
       "3  2020-02  \n",
       "4  2017-06  "
      ]
     },
     "execution_count": 1,
     "metadata": {},
     "output_type": "execute_result"
    }
   ],
   "source": [
    "import numpy as np\n",
    "import pandas as pd\n",
    "from datetime import datetime as dt\n",
    "import matplotlib.pyplot as plt\n",
    "\n",
    "df = pd.read_csv('Value_of_Energy_Cost_Savings_Program.csv')\n",
    "\n",
    "#keep only the columns we need, and give them better names\n",
    "\n",
    "df['New jobs'] = df['Job created'].fillna(0)\n",
    "df['Month'] = pd.to_datetime(df['Effective Date']).dt.to_period(\"M\")\n",
    "\n",
    "df = df[['Company Name', 'company email','Borough','NTA','Total Savings','New jobs','Month']]\n",
    "df.rename(columns={'Company Name':'Company','company email':'Email'},inplace=True)\n",
    "\n",
    "df.head()"
   ]
  },
  {
   "cell_type": "code",
   "execution_count": 2,
   "id": "c75abbba",
   "metadata": {},
   "outputs": [
    {
     "name": "stdout",
     "output_type": "stream",
     "text": [
      "There are 450 companies represented in the data set.\n"
     ]
    }
   ],
   "source": [
    "N = len(df)\n",
    "\n",
    "print('There are', N,'companies represented in the data set.')\n",
    "#There are 450 companies represented in the data set."
   ]
  },
  {
   "cell_type": "code",
   "execution_count": 3,
   "id": "e82f1727",
   "metadata": {},
   "outputs": [
    {
     "name": "stdout",
     "output_type": "stream",
     "text": [
      "There were 102 jobs created in Queens.\n"
     ]
    }
   ],
   "source": [
    "#Find the number of jobs created in the borough of Queens\n",
    "\n",
    "borough = df['Borough']\n",
    "jobs = df['New jobs']\n",
    "L = [jobs[k] for k in range(N) if borough[k]=='Queens']\n",
    "\n",
    "queens_jobs = sum(L)\n",
    "print('There were',int(queens_jobs),'jobs created in Queens.')\n",
    "#There were 102 jobs created in Queens."
   ]
  },
  {
   "cell_type": "code",
   "execution_count": 4,
   "id": "7a231254",
   "metadata": {},
   "outputs": [
    {
     "name": "stdout",
     "output_type": "stream",
     "text": [
      "There are 420 unique domain names in the dataset.\n"
     ]
    }
   ],
   "source": [
    "#Find the number of unique domain names\n",
    "\n",
    "domain_list = df['Email']\n",
    "at = '@'\n",
    "\n",
    "for address in domain_list:\n",
    "    if isinstance(address,str) and at in address:\n",
    "        idx = address.index(at)\n",
    "        address = address[idx+1:]\n",
    "\n",
    "print('There are',domain_list.nunique(),'unique domain names in the dataset.')\n",
    "#There are 420 unique domain names in the dataset."
   ]
  },
  {
   "cell_type": "code",
   "execution_count": 13,
   "id": "f84cca1c",
   "metadata": {},
   "outputs": [],
   "source": [
    "NTA_groupby = df.groupby('NTA')\n",
    "NTA_list = NTA_groupby.size()\n",
    "\n",
    "#NTA5 is the list of NTAs with at least 5 companies in our dataframe df\n",
    "NTA5 = [NTA for NTA in NTA_list.keys() if NTA_list[NTA] >= 5]        \n",
    "        \n",
    "#compute average total savings and average number of new jobs for each NTA in our list NTA5\n",
    "df_columns = NTA_groupby[['Total Savings','New jobs']].mean()\n",
    "\n",
    "#new_df contains the entries of df_columns whose NTA is in the list NTA5\n",
    "df5 = df_columns.filter(items=NTA5, axis=0)\n",
    "\n",
    "xString = 'Average savings'\n",
    "yString = 'Average number of new jobs'\n",
    "\n",
    "#rename the columns - these are now averages over each NTA's set of companies\n",
    "df5.rename(columns = {'Total Savings':xString, 'New jobs':yString}, inplace = True)\n",
    "\n",
    "# print(df5)\n",
    "\n",
    "# Save the results in the file df5.csv\n",
    "# df5.to_csv(\"df5.csv\")"
   ]
  },
  {
   "cell_type": "code",
   "execution_count": 16,
   "id": "6450ccad",
   "metadata": {},
   "outputs": [
    {
     "data": {
      "image/png": "[encoded data removed]",
      "text/plain": [
       "<Figure size 576x288 with 2 Axes>"
      ]
     },
     "metadata": {
      "needs_background": "light"
     },
     "output_type": "display_data"
    }
   ],
   "source": [
    "#plot average savings vs average number of new jobs, for NTAs with at least five companies\n",
    "\n",
    "fig, axs = plt.subplots(nrows=1,ncols=2,figsize=(8,4))\n",
    "\n",
    "df5.plot.scatter(x=xString, y=yString, ax=axs[0])\n",
    "df5.plot.scatter(x=xString, y=yString,ax=axs[1],logx=True)\n",
    "\n",
    "fig.suptitle('Average savings vs. average number of jobs created',fontsize=14)\n",
    "axs[0].set_xlabel('Average savings (linear scale)')\n",
    "axs[1].set_xlabel('Average savings (logarithmic scale)')\n",
    "\n",
    "axs[1].set_ylabel('')\n",
    "\n",
    "for i in range(0,2):\n",
    "    axs[i].grid()\n",
    "\n",
    "axs[0].set_xticks(np.linspace(0,400000,5))\n",
    "axs[0].set_xticklabels(['$0','$100K','$200K','$300K','$400K'])\n",
    "\n",
    "savings_loc = [3000,10000,30000,100000,500000] #location of tick marks on log savings axis\n",
    "savings_label = ['$3K','$10K','$30K','$100K','$500K'] #labels of tick marks on log savings axis\n",
    "\n",
    "axs[1].set_xticks(np.array(savings_loc))\n",
    "axs[1].set_xticklabels(savings_label)\n",
    "\n",
    "#rotate tick labels on x axes to be diagonal\n",
    "for i in range(0,2):\n",
    "    labels = axs[i].get_xticklabels()\n",
    "    plt.setp(labels, rotation=45, horizontalalignment='right')"
   ]
  },
  {
   "cell_type": "code",
   "execution_count": 19,
   "id": "bf899124",
   "metadata": {},
   "outputs": [
    {
     "data": {
      "text/plain": [
       "Text(0.5, 0, 'Average savings')"
      ]
     },
     "execution_count": 19,
     "metadata": {},
     "output_type": "execute_result"
    },
    {
     "data": {
      "image/png": "[encoded data removed]",
      "text/plain": [
       "<Figure size 432x288 with 1 Axes>"
      ]
     },
     "metadata": {
      "needs_background": "light"
     },
     "output_type": "display_data"
    }
   ],
   "source": [
    "fig2, ax2 = plt.subplots()\n",
    "\n",
    "df5['Average savings'].plot(kind='hist', logx=True, ax=ax2, bins=15,histtype='bar')\n",
    "\n",
    "ax2.set_xticks(savings_loc)\n",
    "ax2.set_xticklabels(savings_label)\n",
    "\n",
    "fig2.suptitle('Histogram of average savings')\n",
    "ax2.set_xlabel('Average savings')"
   ]
  },
  {
   "cell_type": "code",
   "execution_count": 24,
   "id": "869b6c4f",
   "metadata": {},
   "outputs": [
    {
     "data": {
      "text/plain": [
       "Text(0.5, 0.98, 'New jobs (each month)')"
      ]
     },
     "execution_count": 24,
     "metadata": {},
     "output_type": "execute_result"
    },
    {
     "data": {
      "image/png": "[encoded data removed]",
      "text/plain": [
       "<Figure size 432x288 with 1 Axes>"
      ]
     },
     "metadata": {
      "needs_background": "light"
     },
     "output_type": "display_data"
    }
   ],
   "source": [
    "jobs_per_month = df.groupby('Month').size()\n",
    "\n",
    "#delete the one entry from 1993 -- all the others are from 2004 or later\n",
    "jobs_per_month = jobs_per_month[1:] \n",
    "\n",
    "# print(jobs_per_month)\n",
    "\n",
    "fig3, ax3 = plt.subplots()\n",
    "\n",
    "jobs_per_month.plot(ax=ax3)\n",
    "ax3.set_xlabel('Date')\n",
    "fig3.suptitle('New jobs (each month)')"
   ]
  }
 ],
 "metadata": {
  "kernelspec": {
   "display_name": "Python 3",
   "language": "python",
   "name": "python3"
  },
  "language_info": {
   "codemirror_mode": {
    "name": "ipython",
    "version": 3
   },
   "file_extension": ".py",
   "mimetype": "text/x-python",
   "name": "python",
   "nbconvert_exporter": "python",
   "pygments_lexer": "ipython3",
   "version": "3.8.8"
  }
 },
 "nbformat": 4,
 "nbformat_minor": 5
}
